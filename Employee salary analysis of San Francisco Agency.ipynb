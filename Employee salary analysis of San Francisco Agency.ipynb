{
 "cells": [
  {
   "cell_type": "code",
   "execution_count": 1,
   "id": "b921263a",
   "metadata": {},
   "outputs": [],
   "source": [
    "import pandas as pd"
   ]
  },
  {
   "cell_type": "code",
   "execution_count": 2,
   "id": "0130afde",
   "metadata": {},
   "outputs": [
    {
     "name": "stderr",
     "output_type": "stream",
     "text": [
      "C:\\Users\\ravi kumar\\AppData\\Local\\Temp\\ipykernel_14644\\3855793621.py:1: DtypeWarning: Columns (9) have mixed types. Specify dtype option on import or set low_memory=False.\n",
      "  df=pd.read_csv(r\"C:\\Users\\ravi kumar\\Downloads\\Employee Salaries.csv\")\n"
     ]
    },
    {
     "data": {
      "text/html": [
       "<div>\n",
       "<style scoped>\n",
       "    .dataframe tbody tr th:only-of-type {\n",
       "        vertical-align: middle;\n",
       "    }\n",
       "\n",
       "    .dataframe tbody tr th {\n",
       "        vertical-align: top;\n",
       "    }\n",
       "\n",
       "    .dataframe thead th {\n",
       "        text-align: right;\n",
       "    }\n",
       "</style>\n",
       "<table border=\"1\" class=\"dataframe\">\n",
       "  <thead>\n",
       "    <tr style=\"text-align: right;\">\n",
       "      <th></th>\n",
       "      <th>Id</th>\n",
       "      <th>EmployeeName</th>\n",
       "      <th>JobTitle</th>\n",
       "      <th>BasePay</th>\n",
       "      <th>OvertimePay</th>\n",
       "      <th>OtherPay</th>\n",
       "      <th>Benefits</th>\n",
       "      <th>Year</th>\n",
       "      <th>Agency</th>\n",
       "      <th>Status</th>\n",
       "    </tr>\n",
       "  </thead>\n",
       "  <tbody>\n",
       "    <tr>\n",
       "      <th>0</th>\n",
       "      <td>1</td>\n",
       "      <td>NATHANIEL FORD</td>\n",
       "      <td>GENERAL MANAGER-METROPOLITAN TRANSIT AUTHORITY</td>\n",
       "      <td>$167,411.18</td>\n",
       "      <td>$0.00</td>\n",
       "      <td>$400,184.25</td>\n",
       "      <td>NaN</td>\n",
       "      <td>2011</td>\n",
       "      <td>San Francisco</td>\n",
       "      <td>NaN</td>\n",
       "    </tr>\n",
       "    <tr>\n",
       "      <th>1</th>\n",
       "      <td>2</td>\n",
       "      <td>GARY JIMENEZ</td>\n",
       "      <td>CAPTAIN III (POLICE DEPARTMENT)</td>\n",
       "      <td>$155,966.02</td>\n",
       "      <td>$245,131.88</td>\n",
       "      <td>$137,811.38</td>\n",
       "      <td>NaN</td>\n",
       "      <td>2011</td>\n",
       "      <td>San Francisco</td>\n",
       "      <td>NaN</td>\n",
       "    </tr>\n",
       "    <tr>\n",
       "      <th>2</th>\n",
       "      <td>3</td>\n",
       "      <td>ALBERT PARDINI</td>\n",
       "      <td>CAPTAIN III (POLICE DEPARTMENT)</td>\n",
       "      <td>$212,739.13</td>\n",
       "      <td>$106,088.18</td>\n",
       "      <td>$16,452.60</td>\n",
       "      <td>NaN</td>\n",
       "      <td>2011</td>\n",
       "      <td>San Francisco</td>\n",
       "      <td>NaN</td>\n",
       "    </tr>\n",
       "    <tr>\n",
       "      <th>3</th>\n",
       "      <td>4</td>\n",
       "      <td>CHRISTOPHER CHONG</td>\n",
       "      <td>WIRE ROPE CABLE MAINTENANCE MECHANIC</td>\n",
       "      <td>$77,916.00</td>\n",
       "      <td>$56,120.71</td>\n",
       "      <td>$198,306.90</td>\n",
       "      <td>NaN</td>\n",
       "      <td>2011</td>\n",
       "      <td>San Francisco</td>\n",
       "      <td>NaN</td>\n",
       "    </tr>\n",
       "    <tr>\n",
       "      <th>4</th>\n",
       "      <td>5</td>\n",
       "      <td>PATRICK GARDNER</td>\n",
       "      <td>DEPUTY CHIEF OF DEPARTMENT,(FIRE DEPARTMENT)</td>\n",
       "      <td>$134,401.60</td>\n",
       "      <td>$9,737.00</td>\n",
       "      <td>$182,234.59</td>\n",
       "      <td>NaN</td>\n",
       "      <td>2011</td>\n",
       "      <td>San Francisco</td>\n",
       "      <td>NaN</td>\n",
       "    </tr>\n",
       "    <tr>\n",
       "      <th>...</th>\n",
       "      <td>...</td>\n",
       "      <td>...</td>\n",
       "      <td>...</td>\n",
       "      <td>...</td>\n",
       "      <td>...</td>\n",
       "      <td>...</td>\n",
       "      <td>...</td>\n",
       "      <td>...</td>\n",
       "      <td>...</td>\n",
       "      <td>...</td>\n",
       "    </tr>\n",
       "    <tr>\n",
       "      <th>148649</th>\n",
       "      <td>148650</td>\n",
       "      <td>Roy I Tillery</td>\n",
       "      <td>Custodian</td>\n",
       "      <td>$0.00</td>\n",
       "      <td>$0.00</td>\n",
       "      <td>$0.00</td>\n",
       "      <td>$0.00</td>\n",
       "      <td>2014</td>\n",
       "      <td>San Francisco</td>\n",
       "      <td>PT</td>\n",
       "    </tr>\n",
       "    <tr>\n",
       "      <th>148650</th>\n",
       "      <td>148651</td>\n",
       "      <td>Not provided</td>\n",
       "      <td>Not provided</td>\n",
       "      <td>Not Provided</td>\n",
       "      <td>Not Provided</td>\n",
       "      <td>Not Provided</td>\n",
       "      <td>Not Provided</td>\n",
       "      <td>2014</td>\n",
       "      <td>San Francisco</td>\n",
       "      <td>NaN</td>\n",
       "    </tr>\n",
       "    <tr>\n",
       "      <th>148651</th>\n",
       "      <td>148652</td>\n",
       "      <td>Not provided</td>\n",
       "      <td>Not provided</td>\n",
       "      <td>Not Provided</td>\n",
       "      <td>Not Provided</td>\n",
       "      <td>Not Provided</td>\n",
       "      <td>Not Provided</td>\n",
       "      <td>2014</td>\n",
       "      <td>San Francisco</td>\n",
       "      <td>NaN</td>\n",
       "    </tr>\n",
       "    <tr>\n",
       "      <th>148652</th>\n",
       "      <td>148653</td>\n",
       "      <td>Not provided</td>\n",
       "      <td>Not provided</td>\n",
       "      <td>Not Provided</td>\n",
       "      <td>Not Provided</td>\n",
       "      <td>Not Provided</td>\n",
       "      <td>Not Provided</td>\n",
       "      <td>2014</td>\n",
       "      <td>San Francisco</td>\n",
       "      <td>NaN</td>\n",
       "    </tr>\n",
       "    <tr>\n",
       "      <th>148653</th>\n",
       "      <td>148654</td>\n",
       "      <td>Joe Lopez</td>\n",
       "      <td>Counselor, Log Cabin Ranch</td>\n",
       "      <td>$0.00</td>\n",
       "      <td>$0.00</td>\n",
       "      <td>($618.13)</td>\n",
       "      <td>$0.00</td>\n",
       "      <td>2014</td>\n",
       "      <td>San Francisco</td>\n",
       "      <td>PT</td>\n",
       "    </tr>\n",
       "  </tbody>\n",
       "</table>\n",
       "<p>148654 rows × 10 columns</p>\n",
       "</div>"
      ],
      "text/plain": [
       "            Id       EmployeeName  \\\n",
       "0            1     NATHANIEL FORD   \n",
       "1            2       GARY JIMENEZ   \n",
       "2            3     ALBERT PARDINI   \n",
       "3            4  CHRISTOPHER CHONG   \n",
       "4            5    PATRICK GARDNER   \n",
       "...        ...                ...   \n",
       "148649  148650      Roy I Tillery   \n",
       "148650  148651       Not provided   \n",
       "148651  148652       Not provided   \n",
       "148652  148653       Not provided   \n",
       "148653  148654          Joe Lopez   \n",
       "\n",
       "                                              JobTitle       BasePay  \\\n",
       "0       GENERAL MANAGER-METROPOLITAN TRANSIT AUTHORITY  $167,411.18    \n",
       "1                      CAPTAIN III (POLICE DEPARTMENT)  $155,966.02    \n",
       "2                      CAPTAIN III (POLICE DEPARTMENT)  $212,739.13    \n",
       "3                 WIRE ROPE CABLE MAINTENANCE MECHANIC   $77,916.00    \n",
       "4         DEPUTY CHIEF OF DEPARTMENT,(FIRE DEPARTMENT)  $134,401.60    \n",
       "...                                                ...           ...   \n",
       "148649                                       Custodian        $0.00    \n",
       "148650                                    Not provided  Not Provided   \n",
       "148651                                    Not provided  Not Provided   \n",
       "148652                                    Not provided  Not Provided   \n",
       "148653                      Counselor, Log Cabin Ranch        $0.00    \n",
       "\n",
       "         OvertimePay      OtherPay      Benefits  Year         Agency Status  \n",
       "0             $0.00   $400,184.25            NaN  2011  San Francisco    NaN  \n",
       "1       $245,131.88   $137,811.38            NaN  2011  San Francisco    NaN  \n",
       "2       $106,088.18    $16,452.60            NaN  2011  San Francisco    NaN  \n",
       "3        $56,120.71   $198,306.90            NaN  2011  San Francisco    NaN  \n",
       "4         $9,737.00   $182,234.59            NaN  2011  San Francisco    NaN  \n",
       "...              ...           ...           ...   ...            ...    ...  \n",
       "148649        $0.00         $0.00         $0.00   2014  San Francisco     PT  \n",
       "148650  Not Provided  Not Provided  Not Provided  2014  San Francisco    NaN  \n",
       "148651  Not Provided  Not Provided  Not Provided  2014  San Francisco    NaN  \n",
       "148652  Not Provided  Not Provided  Not Provided  2014  San Francisco    NaN  \n",
       "148653        $0.00      ($618.13)        $0.00   2014  San Francisco     PT  \n",
       "\n",
       "[148654 rows x 10 columns]"
      ]
     },
     "execution_count": 2,
     "metadata": {},
     "output_type": "execute_result"
    }
   ],
   "source": [
    "df=pd.read_csv(r\"C:\\Users\\ravi kumar\\Downloads\\Employee Salaries.csv\")\n",
    "df"
   ]
  },
  {
   "cell_type": "code",
   "execution_count": 3,
   "id": "7091fd2b",
   "metadata": {},
   "outputs": [],
   "source": [
    "# check the datatype"
   ]
  },
  {
   "cell_type": "code",
   "execution_count": 4,
   "id": "f9cd84de",
   "metadata": {},
   "outputs": [
    {
     "data": {
      "text/plain": [
       "Id               int64\n",
       "EmployeeName    object\n",
       "JobTitle        object\n",
       "BasePay         object\n",
       "OvertimePay     object\n",
       "OtherPay        object\n",
       "Benefits        object\n",
       "Year             int64\n",
       "Agency          object\n",
       "Status          object\n",
       "dtype: object"
      ]
     },
     "execution_count": 4,
     "metadata": {},
     "output_type": "execute_result"
    }
   ],
   "source": [
    "df.dtypes"
   ]
  },
  {
   "cell_type": "code",
   "execution_count": 5,
   "id": "ec6fbb53",
   "metadata": {},
   "outputs": [],
   "source": [
    "# check the unique value"
   ]
  },
  {
   "cell_type": "code",
   "execution_count": 6,
   "id": "b6858c20",
   "metadata": {},
   "outputs": [
    {
     "name": "stdout",
     "output_type": "stream",
     "text": [
      "Id [     1      2      3 ... 148652 148653 148654] \n",
      "\n",
      "EmployeeName ['NATHANIEL FORD' 'GARY JIMENEZ' 'ALBERT PARDINI' ... 'Charlene D Mccully'\n",
      " 'Not provided' 'Joe Lopez'] \n",
      "\n",
      "JobTitle ['GENERAL MANAGER-METROPOLITAN TRANSIT AUTHORITY'\n",
      " 'CAPTAIN III (POLICE DEPARTMENT)' 'WIRE ROPE CABLE MAINTENANCE MECHANIC'\n",
      " ... 'Conversion' 'Cashier 3' 'Not provided'] \n",
      "\n",
      "BasePay ['$167,411.18 ' '$155,966.02 ' '$212,739.13 ' ... 'sfff' '-'\n",
      " 'Not Provided'] \n",
      "\n",
      "OvertimePay ['$0.00 ' '$245,131.88 ' '$106,088.18 ' ... 'sdf' 'v' 'Not Provided'] \n",
      "\n",
      "OtherPay ['$400,184.25 ' '$137,811.38 ' '$16,452.60 ' ... 'sf' 'Not Provided'\n",
      " '($618.13)'] \n",
      "\n",
      "Benefits [nan '44430.12' '$69,810.19 ' ... '$0.13 ' '$1.24 ' 'Not Provided'] \n",
      "\n",
      "Year [2011 2012 2013 2014] \n",
      "\n",
      "Agency ['San Francisco'] \n",
      "\n",
      "Status [nan 'PT' 'FT'] \n",
      "\n"
     ]
    }
   ],
   "source": [
    "for i in df.columns:\n",
    "    print(i,df[i].unique(),'\\n')"
   ]
  },
  {
   "cell_type": "code",
   "execution_count": 7,
   "id": "0002a7cd",
   "metadata": {},
   "outputs": [],
   "source": [
    "# clean the data basis of apropriate datatypes"
   ]
  },
  {
   "cell_type": "code",
   "execution_count": 8,
   "id": "38dfd4d0",
   "metadata": {},
   "outputs": [],
   "source": [
    "df[\"BasePay\"]=df[\"BasePay\"].str.replace(\"[^0-9\\.]\", \"\", regex=True)\n",
    "df[\"OvertimePay\"]=df[\"OvertimePay\"].str.replace(\"[^0-9\\.]\", \"\", regex=True)\n",
    "df[\"OtherPay\"]=df[\"OtherPay\"].str.replace(\"[^0-9\\.]\", \"\", regex=True)\n",
    "df[\"Benefits\"]=df[\"Benefits\"].str.replace(\"[^0-9\\.]\", \"\", regex=True)"
   ]
  },
  {
   "cell_type": "code",
   "execution_count": 9,
   "id": "0dc62b55",
   "metadata": {},
   "outputs": [],
   "source": [
    "df[\"BasePay\"]=pd.to_numeric(df[\"BasePay\"],errors='coerce')\n",
    "df[\"OvertimePay\"]=pd.to_numeric(df[\"OvertimePay\"],errors='coerce')\n",
    "df[\"OtherPay\"]=pd.to_numeric(df[\"OtherPay\"],errors='coerce')\n",
    "df[\"Benefits\"]=pd.to_numeric(df[\"Benefits\"],errors='coerce')"
   ]
  },
  {
   "cell_type": "code",
   "execution_count": 10,
   "id": "e600f5aa",
   "metadata": {},
   "outputs": [],
   "source": [
    "import numpy as np"
   ]
  },
  {
   "cell_type": "code",
   "execution_count": 11,
   "id": "3ad4f333",
   "metadata": {},
   "outputs": [],
   "source": [
    "df[\"EmployeeName\"]=df[\"EmployeeName\"].replace(\"Not provided\",np.nan)\n",
    "df[\"JobTitle\"]=df[\"JobTitle\"].replace(\"Not provided\",np.nan)"
   ]
  },
  {
   "cell_type": "code",
   "execution_count": 12,
   "id": "44e2f9e1",
   "metadata": {},
   "outputs": [
    {
     "data": {
      "text/plain": [
       "Id                int64\n",
       "EmployeeName     object\n",
       "JobTitle         object\n",
       "BasePay         float64\n",
       "OvertimePay     float64\n",
       "OtherPay        float64\n",
       "Benefits        float64\n",
       "Year              int64\n",
       "Agency           object\n",
       "Status           object\n",
       "dtype: object"
      ]
     },
     "execution_count": 12,
     "metadata": {},
     "output_type": "execute_result"
    }
   ],
   "source": [
    "df.dtypes"
   ]
  },
  {
   "cell_type": "code",
   "execution_count": 13,
   "id": "7360d6a7",
   "metadata": {},
   "outputs": [
    {
     "name": "stdout",
     "output_type": "stream",
     "text": [
      "Id [     1      2      3 ... 148652 148653 148654] \n",
      "\n",
      "EmployeeName ['NATHANIEL FORD' 'GARY JIMENEZ' 'ALBERT PARDINI' ... 'Charlene D Mccully'\n",
      " nan 'Joe Lopez'] \n",
      "\n",
      "JobTitle ['GENERAL MANAGER-METROPOLITAN TRANSIT AUTHORITY'\n",
      " 'CAPTAIN III (POLICE DEPARTMENT)' 'WIRE ROPE CABLE MAINTENANCE MECHANIC'\n",
      " ... 'Conversion' 'Cashier 3' nan] \n",
      "\n",
      "BasePay [1.6741118e+05 1.5596602e+05 2.1273913e+05 ... 1.7260000e+01 6.0400000e+00\n",
      " 1.5500000e+01] \n",
      "\n",
      "OvertimePay [0.0000000e+00 2.4513188e+05 1.0608818e+05 ... 2.2800000e+02 1.0270000e+02\n",
      " 5.6770000e+01] \n",
      "\n",
      "OtherPay [4.0018425e+05 1.3781138e+05 1.6452600e+04 ... 1.9810000e+01 1.0050000e+01\n",
      " 1.5350000e+01] \n",
      "\n",
      "Benefits [         nan 4.443012e+04 6.981019e+04 ... 2.200000e-01 1.300000e-01\n",
      " 1.240000e+00] \n",
      "\n",
      "Year [2011 2012 2013 2014] \n",
      "\n",
      "Agency ['San Francisco'] \n",
      "\n",
      "Status [nan 'PT' 'FT'] \n",
      "\n"
     ]
    }
   ],
   "source": [
    "for i in df.columns:\n",
    "    print(i,df[i].unique(),'\\n')"
   ]
  },
  {
   "cell_type": "code",
   "execution_count": 14,
   "id": "4d4161a2",
   "metadata": {},
   "outputs": [],
   "source": [
    "# checking the null values"
   ]
  },
  {
   "cell_type": "code",
   "execution_count": 15,
   "id": "295513c6",
   "metadata": {},
   "outputs": [
    {
     "data": {
      "text/plain": [
       "Id                   0\n",
       "EmployeeName         4\n",
       "JobTitle             4\n",
       "BasePay            628\n",
       "OvertimePay         29\n",
       "OtherPay            27\n",
       "Benefits         36163\n",
       "Year                 0\n",
       "Agency               0\n",
       "Status          110535\n",
       "dtype: int64"
      ]
     },
     "execution_count": 15,
     "metadata": {},
     "output_type": "execute_result"
    }
   ],
   "source": [
    "df.isna().sum()"
   ]
  },
  {
   "cell_type": "code",
   "execution_count": 16,
   "id": "3eb8f431",
   "metadata": {},
   "outputs": [],
   "source": [
    "# handle the null value"
   ]
  },
  {
   "cell_type": "code",
   "execution_count": 17,
   "id": "90b0fcaf",
   "metadata": {},
   "outputs": [],
   "source": [
    "df[\"Status\"].fillna(method='bfill',inplace=True)"
   ]
  },
  {
   "cell_type": "code",
   "execution_count": 18,
   "id": "75e8c540",
   "metadata": {},
   "outputs": [],
   "source": [
    "df.dropna(inplace=True)"
   ]
  },
  {
   "cell_type": "code",
   "execution_count": 19,
   "id": "21e4daf3",
   "metadata": {},
   "outputs": [
    {
     "data": {
      "text/plain": [
       "Id              0\n",
       "EmployeeName    0\n",
       "JobTitle        0\n",
       "BasePay         0\n",
       "OvertimePay     0\n",
       "OtherPay        0\n",
       "Benefits        0\n",
       "Year            0\n",
       "Agency          0\n",
       "Status          0\n",
       "dtype: int64"
      ]
     },
     "execution_count": 19,
     "metadata": {},
     "output_type": "execute_result"
    }
   ],
   "source": [
    "df.isna().sum()"
   ]
  },
  {
   "cell_type": "code",
   "execution_count": 20,
   "id": "12294832",
   "metadata": {},
   "outputs": [],
   "source": [
    "df.drop(\"Id\",axis=1,inplace=True)"
   ]
  },
  {
   "cell_type": "code",
   "execution_count": 21,
   "id": "64be9edc",
   "metadata": {},
   "outputs": [],
   "source": [
    "# now this is clean dataset"
   ]
  },
  {
   "cell_type": "code",
   "execution_count": 22,
   "id": "bf14cc9b",
   "metadata": {},
   "outputs": [],
   "source": [
    "df=df.reset_index()"
   ]
  },
  {
   "cell_type": "code",
   "execution_count": 23,
   "id": "4cf903ee",
   "metadata": {},
   "outputs": [],
   "source": [
    "df.drop(\"index\",axis=1,inplace=True)"
   ]
  },
  {
   "cell_type": "code",
   "execution_count": 24,
   "id": "74a1c388",
   "metadata": {},
   "outputs": [
    {
     "data": {
      "text/html": [
       "<div>\n",
       "<style scoped>\n",
       "    .dataframe tbody tr th:only-of-type {\n",
       "        vertical-align: middle;\n",
       "    }\n",
       "\n",
       "    .dataframe tbody tr th {\n",
       "        vertical-align: top;\n",
       "    }\n",
       "\n",
       "    .dataframe thead th {\n",
       "        text-align: right;\n",
       "    }\n",
       "</style>\n",
       "<table border=\"1\" class=\"dataframe\">\n",
       "  <thead>\n",
       "    <tr style=\"text-align: right;\">\n",
       "      <th></th>\n",
       "      <th>EmployeeName</th>\n",
       "      <th>JobTitle</th>\n",
       "      <th>BasePay</th>\n",
       "      <th>OvertimePay</th>\n",
       "      <th>OtherPay</th>\n",
       "      <th>Benefits</th>\n",
       "      <th>Year</th>\n",
       "      <th>Agency</th>\n",
       "      <th>Status</th>\n",
       "    </tr>\n",
       "  </thead>\n",
       "  <tbody>\n",
       "    <tr>\n",
       "      <th>0</th>\n",
       "      <td>Gary Altenberg</td>\n",
       "      <td>Lieutenant, Fire Suppression</td>\n",
       "      <td>128808.87</td>\n",
       "      <td>220909.48</td>\n",
       "      <td>13126.31</td>\n",
       "      <td>44430.12</td>\n",
       "      <td>2012</td>\n",
       "      <td>San Francisco</td>\n",
       "      <td>PT</td>\n",
       "    </tr>\n",
       "    <tr>\n",
       "      <th>1</th>\n",
       "      <td>Gregory Suhr</td>\n",
       "      <td>Chief of Police</td>\n",
       "      <td>302578.00</td>\n",
       "      <td>0.00</td>\n",
       "      <td>18974.11</td>\n",
       "      <td>69810.19</td>\n",
       "      <td>2012</td>\n",
       "      <td>San Francisco</td>\n",
       "      <td>PT</td>\n",
       "    </tr>\n",
       "    <tr>\n",
       "      <th>2</th>\n",
       "      <td>Khoa Trinh</td>\n",
       "      <td>Electronic Maintenance Tech</td>\n",
       "      <td>111921.00</td>\n",
       "      <td>146415.32</td>\n",
       "      <td>78057.41</td>\n",
       "      <td>53102.29</td>\n",
       "      <td>2012</td>\n",
       "      <td>San Francisco</td>\n",
       "      <td>PT</td>\n",
       "    </tr>\n",
       "    <tr>\n",
       "      <th>3</th>\n",
       "      <td>Joanne Hayes-White</td>\n",
       "      <td>Chief, Fire Department</td>\n",
       "      <td>296943.01</td>\n",
       "      <td>0.00</td>\n",
       "      <td>17816.59</td>\n",
       "      <td>72047.88</td>\n",
       "      <td>2012</td>\n",
       "      <td>San Francisco</td>\n",
       "      <td>PT</td>\n",
       "    </tr>\n",
       "    <tr>\n",
       "      <th>4</th>\n",
       "      <td>Frederick Binkley</td>\n",
       "      <td>EMT/Paramedic/Firefighter</td>\n",
       "      <td>126863.19</td>\n",
       "      <td>192424.49</td>\n",
       "      <td>17917.18</td>\n",
       "      <td>44438.25</td>\n",
       "      <td>2012</td>\n",
       "      <td>San Francisco</td>\n",
       "      <td>PT</td>\n",
       "    </tr>\n",
       "    <tr>\n",
       "      <th>...</th>\n",
       "      <td>...</td>\n",
       "      <td>...</td>\n",
       "      <td>...</td>\n",
       "      <td>...</td>\n",
       "      <td>...</td>\n",
       "      <td>...</td>\n",
       "      <td>...</td>\n",
       "      <td>...</td>\n",
       "      <td>...</td>\n",
       "    </tr>\n",
       "    <tr>\n",
       "      <th>111835</th>\n",
       "      <td>Dominic C Marquez</td>\n",
       "      <td>Sign Worker</td>\n",
       "      <td>0.00</td>\n",
       "      <td>0.00</td>\n",
       "      <td>0.00</td>\n",
       "      <td>0.00</td>\n",
       "      <td>2014</td>\n",
       "      <td>San Francisco</td>\n",
       "      <td>PT</td>\n",
       "    </tr>\n",
       "    <tr>\n",
       "      <th>111836</th>\n",
       "      <td>Kim Brewer</td>\n",
       "      <td>Parking Control Officer</td>\n",
       "      <td>0.00</td>\n",
       "      <td>0.00</td>\n",
       "      <td>0.00</td>\n",
       "      <td>0.00</td>\n",
       "      <td>2014</td>\n",
       "      <td>San Francisco</td>\n",
       "      <td>PT</td>\n",
       "    </tr>\n",
       "    <tr>\n",
       "      <th>111837</th>\n",
       "      <td>Leon Walker</td>\n",
       "      <td>Custodian</td>\n",
       "      <td>0.00</td>\n",
       "      <td>0.00</td>\n",
       "      <td>0.00</td>\n",
       "      <td>0.00</td>\n",
       "      <td>2014</td>\n",
       "      <td>San Francisco</td>\n",
       "      <td>PT</td>\n",
       "    </tr>\n",
       "    <tr>\n",
       "      <th>111838</th>\n",
       "      <td>Roy I Tillery</td>\n",
       "      <td>Custodian</td>\n",
       "      <td>0.00</td>\n",
       "      <td>0.00</td>\n",
       "      <td>0.00</td>\n",
       "      <td>0.00</td>\n",
       "      <td>2014</td>\n",
       "      <td>San Francisco</td>\n",
       "      <td>PT</td>\n",
       "    </tr>\n",
       "    <tr>\n",
       "      <th>111839</th>\n",
       "      <td>Joe Lopez</td>\n",
       "      <td>Counselor, Log Cabin Ranch</td>\n",
       "      <td>0.00</td>\n",
       "      <td>0.00</td>\n",
       "      <td>618.13</td>\n",
       "      <td>0.00</td>\n",
       "      <td>2014</td>\n",
       "      <td>San Francisco</td>\n",
       "      <td>PT</td>\n",
       "    </tr>\n",
       "  </tbody>\n",
       "</table>\n",
       "<p>111840 rows × 9 columns</p>\n",
       "</div>"
      ],
      "text/plain": [
       "              EmployeeName                      JobTitle    BasePay  \\\n",
       "0           Gary Altenberg  Lieutenant, Fire Suppression  128808.87   \n",
       "1             Gregory Suhr               Chief of Police  302578.00   \n",
       "2               Khoa Trinh   Electronic Maintenance Tech  111921.00   \n",
       "3       Joanne Hayes-White        Chief, Fire Department  296943.01   \n",
       "4        Frederick Binkley     EMT/Paramedic/Firefighter  126863.19   \n",
       "...                    ...                           ...        ...   \n",
       "111835   Dominic C Marquez                   Sign Worker       0.00   \n",
       "111836          Kim Brewer       Parking Control Officer       0.00   \n",
       "111837         Leon Walker                     Custodian       0.00   \n",
       "111838       Roy I Tillery                     Custodian       0.00   \n",
       "111839           Joe Lopez    Counselor, Log Cabin Ranch       0.00   \n",
       "\n",
       "        OvertimePay  OtherPay  Benefits  Year         Agency Status  \n",
       "0         220909.48  13126.31  44430.12  2012  San Francisco     PT  \n",
       "1              0.00  18974.11  69810.19  2012  San Francisco     PT  \n",
       "2         146415.32  78057.41  53102.29  2012  San Francisco     PT  \n",
       "3              0.00  17816.59  72047.88  2012  San Francisco     PT  \n",
       "4         192424.49  17917.18  44438.25  2012  San Francisco     PT  \n",
       "...             ...       ...       ...   ...            ...    ...  \n",
       "111835         0.00      0.00      0.00  2014  San Francisco     PT  \n",
       "111836         0.00      0.00      0.00  2014  San Francisco     PT  \n",
       "111837         0.00      0.00      0.00  2014  San Francisco     PT  \n",
       "111838         0.00      0.00      0.00  2014  San Francisco     PT  \n",
       "111839         0.00    618.13      0.00  2014  San Francisco     PT  \n",
       "\n",
       "[111840 rows x 9 columns]"
      ]
     },
     "execution_count": 24,
     "metadata": {},
     "output_type": "execute_result"
    }
   ],
   "source": [
    "df"
   ]
  },
  {
   "cell_type": "code",
   "execution_count": 25,
   "id": "c32b6d9c",
   "metadata": {},
   "outputs": [
    {
     "data": {
      "text/html": [
       "<div>\n",
       "<style scoped>\n",
       "    .dataframe tbody tr th:only-of-type {\n",
       "        vertical-align: middle;\n",
       "    }\n",
       "\n",
       "    .dataframe tbody tr th {\n",
       "        vertical-align: top;\n",
       "    }\n",
       "\n",
       "    .dataframe thead th {\n",
       "        text-align: right;\n",
       "    }\n",
       "</style>\n",
       "<table border=\"1\" class=\"dataframe\">\n",
       "  <thead>\n",
       "    <tr style=\"text-align: right;\">\n",
       "      <th></th>\n",
       "      <th>index</th>\n",
       "      <th>JobTitle</th>\n",
       "    </tr>\n",
       "  </thead>\n",
       "  <tbody>\n",
       "    <tr>\n",
       "      <th>0</th>\n",
       "      <td>Transit Operator</td>\n",
       "      <td>6969</td>\n",
       "    </tr>\n",
       "    <tr>\n",
       "      <th>1</th>\n",
       "      <td>Special Nurse</td>\n",
       "      <td>4382</td>\n",
       "    </tr>\n",
       "    <tr>\n",
       "      <th>2</th>\n",
       "      <td>Registered Nurse</td>\n",
       "      <td>3725</td>\n",
       "    </tr>\n",
       "    <tr>\n",
       "      <th>3</th>\n",
       "      <td>Public Svc Aide-Public Works</td>\n",
       "      <td>2514</td>\n",
       "    </tr>\n",
       "    <tr>\n",
       "      <th>4</th>\n",
       "      <td>Police Officer 3</td>\n",
       "      <td>2410</td>\n",
       "    </tr>\n",
       "  </tbody>\n",
       "</table>\n",
       "</div>"
      ],
      "text/plain": [
       "                          index  JobTitle\n",
       "0              Transit Operator      6969\n",
       "1                 Special Nurse      4382\n",
       "2              Registered Nurse      3725\n",
       "3  Public Svc Aide-Public Works      2514\n",
       "4              Police Officer 3      2410"
      ]
     },
     "execution_count": 25,
     "metadata": {},
     "output_type": "execute_result"
    }
   ],
   "source": [
    "r=df[\"JobTitle\"].value_counts().reset_index().head(5)\n",
    "r"
   ]
  },
  {
   "cell_type": "code",
   "execution_count": 26,
   "id": "ab44d5e9",
   "metadata": {},
   "outputs": [],
   "source": [
    "import seaborn as sns\n",
    "import matplotlib.pyplot as plt"
   ]
  },
  {
   "cell_type": "code",
   "execution_count": 27,
   "id": "8a95ba90",
   "metadata": {},
   "outputs": [
    {
     "data": {
      "text/plain": [
       "<Figure size 1440x2880 with 0 Axes>"
      ]
     },
     "execution_count": 27,
     "metadata": {},
     "output_type": "execute_result"
    },
    {
     "data": {
      "image/png": "[encoded data removed]",
      "text/plain": [
       "<Figure size 432x288 with 1 Axes>"
      ]
     },
     "metadata": {
      "needs_background": "light"
     },
     "output_type": "display_data"
    },
    {
     "data": {
      "text/plain": [
       "<Figure size 1440x2880 with 0 Axes>"
      ]
     },
     "metadata": {},
     "output_type": "display_data"
    }
   ],
   "source": [
    "sns.barplot(r,x=\"index\",y=\"JobTitle\")\n",
    "plt.figure(figsize=(20,40))"
   ]
  },
  {
   "cell_type": "code",
   "execution_count": 28,
   "id": "1818f0e7",
   "metadata": {},
   "outputs": [],
   "source": [
    "import seaborn as sns\n",
    "import matplotlib.pyplot as plt\n",
    "import plotly.express as px"
   ]
  },
  {
   "cell_type": "code",
   "execution_count": 29,
   "id": "97e8dc06",
   "metadata": {},
   "outputs": [],
   "source": [
    "# Top 10 most demand jobs"
   ]
  },
  {
   "cell_type": "code",
   "execution_count": 30,
   "id": "5477ac73",
   "metadata": {},
   "outputs": [
    {
     "data": {
      "text/html": [
       "<div>\n",
       "<style scoped>\n",
       "    .dataframe tbody tr th:only-of-type {\n",
       "        vertical-align: middle;\n",
       "    }\n",
       "\n",
       "    .dataframe tbody tr th {\n",
       "        vertical-align: top;\n",
       "    }\n",
       "\n",
       "    .dataframe thead th {\n",
       "        text-align: right;\n",
       "    }\n",
       "</style>\n",
       "<table border=\"1\" class=\"dataframe\">\n",
       "  <thead>\n",
       "    <tr style=\"text-align: right;\">\n",
       "      <th></th>\n",
       "      <th>index</th>\n",
       "      <th>JobTitle</th>\n",
       "    </tr>\n",
       "  </thead>\n",
       "  <tbody>\n",
       "    <tr>\n",
       "      <th>0</th>\n",
       "      <td>Transit Operator</td>\n",
       "      <td>6969</td>\n",
       "    </tr>\n",
       "    <tr>\n",
       "      <th>1</th>\n",
       "      <td>Special Nurse</td>\n",
       "      <td>4382</td>\n",
       "    </tr>\n",
       "    <tr>\n",
       "      <th>2</th>\n",
       "      <td>Registered Nurse</td>\n",
       "      <td>3725</td>\n",
       "    </tr>\n",
       "    <tr>\n",
       "      <th>3</th>\n",
       "      <td>Public Svc Aide-Public Works</td>\n",
       "      <td>2514</td>\n",
       "    </tr>\n",
       "    <tr>\n",
       "      <th>4</th>\n",
       "      <td>Police Officer 3</td>\n",
       "      <td>2410</td>\n",
       "    </tr>\n",
       "    <tr>\n",
       "      <th>5</th>\n",
       "      <td>Custodian</td>\n",
       "      <td>2408</td>\n",
       "    </tr>\n",
       "    <tr>\n",
       "      <th>6</th>\n",
       "      <td>Firefighter</td>\n",
       "      <td>2347</td>\n",
       "    </tr>\n",
       "    <tr>\n",
       "      <th>7</th>\n",
       "      <td>Recreation Leader</td>\n",
       "      <td>1968</td>\n",
       "    </tr>\n",
       "    <tr>\n",
       "      <th>8</th>\n",
       "      <td>Patient Care Assistant</td>\n",
       "      <td>1938</td>\n",
       "    </tr>\n",
       "    <tr>\n",
       "      <th>9</th>\n",
       "      <td>Deputy Sheriff</td>\n",
       "      <td>1914</td>\n",
       "    </tr>\n",
       "  </tbody>\n",
       "</table>\n",
       "</div>"
      ],
      "text/plain": [
       "                          index  JobTitle\n",
       "0              Transit Operator      6969\n",
       "1                 Special Nurse      4382\n",
       "2              Registered Nurse      3725\n",
       "3  Public Svc Aide-Public Works      2514\n",
       "4              Police Officer 3      2410\n",
       "5                     Custodian      2408\n",
       "6                   Firefighter      2347\n",
       "7             Recreation Leader      1968\n",
       "8        Patient Care Assistant      1938\n",
       "9                Deputy Sheriff      1914"
      ]
     },
     "execution_count": 30,
     "metadata": {},
     "output_type": "execute_result"
    }
   ],
   "source": [
    "h=df[\"JobTitle\"].value_counts().sort_values(ascending=False).to_frame().reset_index().head(10)\n",
    "h"
   ]
  },
  {
   "cell_type": "code",
   "execution_count": 31,
   "id": "c8e67b9b",
   "metadata": {},
   "outputs": [
    {
     "data": {
      "text/html": [
       "<div>\n",
       "<style scoped>\n",
       "    .dataframe tbody tr th:only-of-type {\n",
       "        vertical-align: middle;\n",
       "    }\n",
       "\n",
       "    .dataframe tbody tr th {\n",
       "        vertical-align: top;\n",
       "    }\n",
       "\n",
       "    .dataframe thead th {\n",
       "        text-align: right;\n",
       "    }\n",
       "</style>\n",
       "<table border=\"1\" class=\"dataframe\">\n",
       "  <thead>\n",
       "    <tr style=\"text-align: right;\">\n",
       "      <th></th>\n",
       "      <th>JobTitle</th>\n",
       "      <th>Number_of_Jobs</th>\n",
       "    </tr>\n",
       "  </thead>\n",
       "  <tbody>\n",
       "    <tr>\n",
       "      <th>0</th>\n",
       "      <td>Transit Operator</td>\n",
       "      <td>6969</td>\n",
       "    </tr>\n",
       "    <tr>\n",
       "      <th>1</th>\n",
       "      <td>Special Nurse</td>\n",
       "      <td>4382</td>\n",
       "    </tr>\n",
       "    <tr>\n",
       "      <th>2</th>\n",
       "      <td>Registered Nurse</td>\n",
       "      <td>3725</td>\n",
       "    </tr>\n",
       "    <tr>\n",
       "      <th>3</th>\n",
       "      <td>Public Svc Aide-Public Works</td>\n",
       "      <td>2514</td>\n",
       "    </tr>\n",
       "    <tr>\n",
       "      <th>4</th>\n",
       "      <td>Police Officer 3</td>\n",
       "      <td>2410</td>\n",
       "    </tr>\n",
       "    <tr>\n",
       "      <th>5</th>\n",
       "      <td>Custodian</td>\n",
       "      <td>2408</td>\n",
       "    </tr>\n",
       "    <tr>\n",
       "      <th>6</th>\n",
       "      <td>Firefighter</td>\n",
       "      <td>2347</td>\n",
       "    </tr>\n",
       "    <tr>\n",
       "      <th>7</th>\n",
       "      <td>Recreation Leader</td>\n",
       "      <td>1968</td>\n",
       "    </tr>\n",
       "    <tr>\n",
       "      <th>8</th>\n",
       "      <td>Patient Care Assistant</td>\n",
       "      <td>1938</td>\n",
       "    </tr>\n",
       "    <tr>\n",
       "      <th>9</th>\n",
       "      <td>Deputy Sheriff</td>\n",
       "      <td>1914</td>\n",
       "    </tr>\n",
       "  </tbody>\n",
       "</table>\n",
       "</div>"
      ],
      "text/plain": [
       "                       JobTitle  Number_of_Jobs\n",
       "0              Transit Operator            6969\n",
       "1                 Special Nurse            4382\n",
       "2              Registered Nurse            3725\n",
       "3  Public Svc Aide-Public Works            2514\n",
       "4              Police Officer 3            2410\n",
       "5                     Custodian            2408\n",
       "6                   Firefighter            2347\n",
       "7             Recreation Leader            1968\n",
       "8        Patient Care Assistant            1938\n",
       "9                Deputy Sheriff            1914"
      ]
     },
     "execution_count": 31,
     "metadata": {},
     "output_type": "execute_result"
    }
   ],
   "source": [
    "t=pd.DataFrame({\"JobTitle\":h[\"index\"],\"Number_of_Jobs\":h[\"JobTitle\"]})\n",
    "t"
   ]
  },
  {
   "cell_type": "code",
   "execution_count": 51,
   "id": "fad3f9e0",
   "metadata": {},
   "outputs": [
    {
     "data": {
      "text/plain": [
       "<AxesSubplot:xlabel='JobTitle', ylabel='Number_of_Jobs'>"
      ]
     },
     "execution_count": 51,
     "metadata": {},
     "output_type": "execute_result"
    },
    {
     "data": {
      "image/png": "[encoded data removed]",
      "text/plain": [
       "<Figure size 2160x720 with 1 Axes>"
      ]
     },
     "metadata": {
      "needs_background": "light"
     },
     "output_type": "display_data"
    }
   ],
   "source": [
    "plt.figure(figsize=(30,10))\n",
    "sns.scatterplot(data=t, x=\"JobTitle\", y=\"Number_of_Jobs\",s=200)"
   ]
  },
  {
   "cell_type": "code",
   "execution_count": 34,
   "id": "5e2c3475",
   "metadata": {},
   "outputs": [],
   "source": [
    "# TOP 10 AVERAGE BASEPAY PROVIDED IN DIFFERENT JOB_TITLE"
   ]
  },
  {
   "cell_type": "code",
   "execution_count": 58,
   "id": "8f79ed6d",
   "metadata": {},
   "outputs": [
    {
     "data": {
      "text/plain": [
       "JobTitle\n",
       "Chief of Police                 309767.683333\n",
       "Chief, Fire Department          304232.340000\n",
       "Gen Mgr, Public Trnsp Dept      297769.413333\n",
       "Dep Dir for Investments, Ret    276153.765000\n",
       "Mayor                           275852.530000\n",
       "Adm, SFGH Medical Center        265218.780000\n",
       "Controller                      263588.753333\n",
       "Dept Head V                     259590.712222\n",
       "Executive Contract Employee     259328.458333\n",
       "Chief Investment Officer        257340.000000\n",
       "Name: BasePay, dtype: float64"
      ]
     },
     "execution_count": 58,
     "metadata": {},
     "output_type": "execute_result"
    }
   ],
   "source": [
    "df.groupby(\"JobTitle\")[\"BasePay\"].mean().sort_values(ascending=False)[:10]"
   ]
  },
  {
   "cell_type": "code",
   "execution_count": 69,
   "id": "4f50c9a6",
   "metadata": {},
   "outputs": [
    {
     "data": {
      "text/plain": [
       "<AxesSubplot:xlabel='JobTitle', ylabel='BasePay'>"
      ]
     },
     "execution_count": 69,
     "metadata": {},
     "output_type": "execute_result"
    },
    {
     "data": {
      "image/png": "[encoded data removed]",
      "text/plain": [
       "<Figure size 1800x720 with 1 Axes>"
      ]
     },
     "metadata": {
      "needs_background": "light"
     },
     "output_type": "display_data"
    }
   ],
   "source": [
    "plt.figure(figsize=(25,10))\n",
    "sns.lineplot(df.groupby(\"JobTitle\")[\"BasePay\"].mean().sort_values(ascending=False)[:10],marker=\"o\",ms=15)"
   ]
  },
  {
   "cell_type": "code",
   "execution_count": 36,
   "id": "2e2eaac9",
   "metadata": {},
   "outputs": [],
   "source": [
    "# TOTAL BENIFITS PROVIDED BY THE COMPANY IN DIFFERENT YEARS"
   ]
  },
  {
   "cell_type": "code",
   "execution_count": 71,
   "id": "6444e5c5",
   "metadata": {},
   "outputs": [
    {
     "data": {
      "text/html": [
       "<div>\n",
       "<style scoped>\n",
       "    .dataframe tbody tr th:only-of-type {\n",
       "        vertical-align: middle;\n",
       "    }\n",
       "\n",
       "    .dataframe tbody tr th {\n",
       "        vertical-align: top;\n",
       "    }\n",
       "\n",
       "    .dataframe thead th {\n",
       "        text-align: right;\n",
       "    }\n",
       "</style>\n",
       "<table border=\"1\" class=\"dataframe\">\n",
       "  <thead>\n",
       "    <tr style=\"text-align: right;\">\n",
       "      <th></th>\n",
       "      <th>Year</th>\n",
       "      <th>Benefits</th>\n",
       "    </tr>\n",
       "  </thead>\n",
       "  <tbody>\n",
       "    <tr>\n",
       "      <th>0</th>\n",
       "      <td>2012</td>\n",
       "      <td>9.720418e+08</td>\n",
       "    </tr>\n",
       "    <tr>\n",
       "      <th>1</th>\n",
       "      <td>2013</td>\n",
       "      <td>8.928969e+08</td>\n",
       "    </tr>\n",
       "    <tr>\n",
       "      <th>2</th>\n",
       "      <td>2014</td>\n",
       "      <td>9.449409e+08</td>\n",
       "    </tr>\n",
       "  </tbody>\n",
       "</table>\n",
       "</div>"
      ],
      "text/plain": [
       "   Year      Benefits\n",
       "0  2012  9.720418e+08\n",
       "1  2013  8.928969e+08\n",
       "2  2014  9.449409e+08"
      ]
     },
     "execution_count": 71,
     "metadata": {},
     "output_type": "execute_result"
    }
   ],
   "source": [
    "g=df.groupby(\"Year\")[\"Benefits\"].sum().to_frame().reset_index()\n",
    "g"
   ]
  },
  {
   "cell_type": "code",
   "execution_count": 73,
   "id": "f3039a91",
   "metadata": {},
   "outputs": [
    {
     "data": {
      "text/plain": [
       "<AxesSubplot:xlabel='Year', ylabel='Benefits'>"
      ]
     },
     "execution_count": 73,
     "metadata": {},
     "output_type": "execute_result"
    },
    {
     "data": {
      "image/png": "[encoded data removed]",
      "text/plain": [
       "<Figure size 432x288 with 1 Axes>"
      ]
     },
     "metadata": {
      "needs_background": "light"
     },
     "output_type": "display_data"
    }
   ],
   "source": [
    "sns.barplot(data=g, x='Year', y='Benefits')"
   ]
  },
  {
   "cell_type": "code",
   "execution_count": 39,
   "id": "268ea268",
   "metadata": {},
   "outputs": [],
   "source": [
    "# TOTAL OVERTIME PAY BY THE COMPANY IN DIFFERENT YEARS"
   ]
  },
  {
   "cell_type": "code",
   "execution_count": 111,
   "id": "2d93d5ec",
   "metadata": {},
   "outputs": [
    {
     "data": {
      "text/html": [
       "<div>\n",
       "<style scoped>\n",
       "    .dataframe tbody tr th:only-of-type {\n",
       "        vertical-align: middle;\n",
       "    }\n",
       "\n",
       "    .dataframe tbody tr th {\n",
       "        vertical-align: top;\n",
       "    }\n",
       "\n",
       "    .dataframe thead th {\n",
       "        text-align: right;\n",
       "    }\n",
       "</style>\n",
       "<table border=\"1\" class=\"dataframe\">\n",
       "  <thead>\n",
       "    <tr style=\"text-align: right;\">\n",
       "      <th></th>\n",
       "      <th>Year</th>\n",
       "      <th>OvertimePay</th>\n",
       "    </tr>\n",
       "  </thead>\n",
       "  <tbody>\n",
       "    <tr>\n",
       "      <th>0</th>\n",
       "      <td>2012</td>\n",
       "      <td>1.846901e+08</td>\n",
       "    </tr>\n",
       "    <tr>\n",
       "      <th>1</th>\n",
       "      <td>2013</td>\n",
       "      <td>1.986182e+08</td>\n",
       "    </tr>\n",
       "    <tr>\n",
       "      <th>2</th>\n",
       "      <td>2014</td>\n",
       "      <td>2.059186e+08</td>\n",
       "    </tr>\n",
       "  </tbody>\n",
       "</table>\n",
       "</div>"
      ],
      "text/plain": [
       "   Year   OvertimePay\n",
       "0  2012  1.846901e+08\n",
       "1  2013  1.986182e+08\n",
       "2  2014  2.059186e+08"
      ]
     },
     "execution_count": 111,
     "metadata": {},
     "output_type": "execute_result"
    }
   ],
   "source": [
    "d=df.groupby(\"Year\")[\"OvertimePay\"].sum().to_frame().reset_index()\n",
    "d"
   ]
  },
  {
   "cell_type": "code",
   "execution_count": 124,
   "id": "57a4abfe",
   "metadata": {},
   "outputs": [
    {
     "data": {
      "text/plain": [
       "<AxesSubplot:xlabel='Year', ylabel='OvertimePay'>"
      ]
     },
     "execution_count": 124,
     "metadata": {},
     "output_type": "execute_result"
    },
    {
     "data": {
      "image/png": "[encoded data removed]",
      "text/plain": [
       "<Figure size 864x576 with 1 Axes>"
      ]
     },
     "metadata": {
      "needs_background": "light"
     },
     "output_type": "display_data"
    }
   ],
   "source": [
    "plt.figure(figsize=(12,8))\n",
    "sns.lineplot(data=d,x=\"Year\",y=\"OvertimePay\",marker=\"o\",ms=20)"
   ]
  },
  {
   "cell_type": "code",
   "execution_count": 42,
   "id": "c3e8c5a9",
   "metadata": {},
   "outputs": [],
   "source": [
    "# TOP 10 EMPLOYEE \n",
    "# WHO ARE GEETING MORE BASE SALARY COMPARE TO ORTHERS EMPLOYEE"
   ]
  },
  {
   "cell_type": "code",
   "execution_count": 83,
   "id": "3d06e57c",
   "metadata": {},
   "outputs": [
    {
     "data": {
      "text/html": [
       "<div>\n",
       "<style scoped>\n",
       "    .dataframe tbody tr th:only-of-type {\n",
       "        vertical-align: middle;\n",
       "    }\n",
       "\n",
       "    .dataframe tbody tr th {\n",
       "        vertical-align: top;\n",
       "    }\n",
       "\n",
       "    .dataframe thead th {\n",
       "        text-align: right;\n",
       "    }\n",
       "</style>\n",
       "<table border=\"1\" class=\"dataframe\">\n",
       "  <thead>\n",
       "    <tr style=\"text-align: right;\">\n",
       "      <th></th>\n",
       "      <th>EmployeeName</th>\n",
       "      <th>BasePay</th>\n",
       "    </tr>\n",
       "  </thead>\n",
       "  <tbody>\n",
       "    <tr>\n",
       "      <th>36734</th>\n",
       "      <td>Gregory P Suhr</td>\n",
       "      <td>319275.01</td>\n",
       "    </tr>\n",
       "    <tr>\n",
       "      <th>73736</th>\n",
       "      <td>Amy P Hart</td>\n",
       "      <td>318835.49</td>\n",
       "    </tr>\n",
       "    <tr>\n",
       "      <th>36738</th>\n",
       "      <td>Robert L Shaw</td>\n",
       "      <td>315572.01</td>\n",
       "    </tr>\n",
       "    <tr>\n",
       "      <th>36735</th>\n",
       "      <td>Joanne M Hayes-White</td>\n",
       "      <td>313686.01</td>\n",
       "    </tr>\n",
       "    <tr>\n",
       "      <th>36740</th>\n",
       "      <td>Harlan L Kelly-Jr</td>\n",
       "      <td>313312.52</td>\n",
       "    </tr>\n",
       "    <tr>\n",
       "      <th>36741</th>\n",
       "      <td>John L Martin</td>\n",
       "      <td>311758.96</td>\n",
       "    </tr>\n",
       "    <tr>\n",
       "      <th>73741</th>\n",
       "      <td>John L Martin</td>\n",
       "      <td>311298.55</td>\n",
       "    </tr>\n",
       "    <tr>\n",
       "      <th>73742</th>\n",
       "      <td>Harlan L Kelly-Jr</td>\n",
       "      <td>310161.02</td>\n",
       "    </tr>\n",
       "    <tr>\n",
       "      <th>73738</th>\n",
       "      <td>Gregory P Suhr</td>\n",
       "      <td>307450.04</td>\n",
       "    </tr>\n",
       "    <tr>\n",
       "      <th>36742</th>\n",
       "      <td>Edward D Reiskin</td>\n",
       "      <td>305307.89</td>\n",
       "    </tr>\n",
       "  </tbody>\n",
       "</table>\n",
       "</div>"
      ],
      "text/plain": [
       "               EmployeeName    BasePay\n",
       "36734        Gregory P Suhr  319275.01\n",
       "73736            Amy P Hart  318835.49\n",
       "36738         Robert L Shaw  315572.01\n",
       "36735  Joanne M Hayes-White  313686.01\n",
       "36740     Harlan L Kelly-Jr  313312.52\n",
       "36741         John L Martin  311758.96\n",
       "73741         John L Martin  311298.55\n",
       "73742     Harlan L Kelly-Jr  310161.02\n",
       "73738        Gregory P Suhr  307450.04\n",
       "36742      Edward D Reiskin  305307.89"
      ]
     },
     "execution_count": 83,
     "metadata": {},
     "output_type": "execute_result"
    }
   ],
   "source": [
    "top_employee=df[[\"EmployeeName\",\"BasePay\"]].sort_values(by=\"BasePay\",ascending=False).drop_duplicates().head(10)\n",
    "top_employee"
   ]
  },
  {
   "cell_type": "code",
   "execution_count": 87,
   "id": "0acfc51c",
   "metadata": {},
   "outputs": [
    {
     "data": {
      "text/plain": [
       "<AxesSubplot:xlabel='EmployeeName', ylabel='BasePay'>"
      ]
     },
     "execution_count": 87,
     "metadata": {},
     "output_type": "execute_result"
    },
    {
     "data": {
      "image/png": "[encoded data removed]",
      "text/plain": [
       "<Figure size 1440x720 with 1 Axes>"
      ]
     },
     "metadata": {
      "needs_background": "light"
     },
     "output_type": "display_data"
    }
   ],
   "source": [
    "plt.figure(figsize=(20,10))\n",
    "sns.barplot(data=top_employee,x='EmployeeName',y='BasePay')"
   ]
  }
 ],
 "metadata": {
  "kernelspec": {
   "display_name": "Python 3 (ipykernel)",
   "language": "python",
   "name": "python3"
  },
  "language_info": {
   "codemirror_mode": {
    "name": "ipython",
    "version": 3
   },
   "file_extension": ".py",
   "mimetype": "text/x-python",
   "name": "python",
   "nbconvert_exporter": "python",
   "pygments_lexer": "ipython3",
   "version": "3.10.5"
  }
 },
 "nbformat": 4,
 "nbformat_minor": 5
}
